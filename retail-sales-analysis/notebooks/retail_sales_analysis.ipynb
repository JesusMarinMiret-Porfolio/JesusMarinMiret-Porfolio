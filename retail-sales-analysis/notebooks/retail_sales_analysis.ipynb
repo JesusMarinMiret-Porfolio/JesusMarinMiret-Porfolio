{
 "cells": [
  {
   "cell_type": "markdown",
   "id": "15faf100-c983-43a9-ba67-8215bd578774",
   "metadata": {},
   "source": [
    "## Importación de datos y librerias\n",
    "Primero importamos las librerías que necesitaremos para el análisis y a justo después, el set de datos que vamos a utilizar.\n"
   ]
  },
  {
   "cell_type": "code",
   "execution_count": 153,
   "id": "2afbd314-bf6b-4f87-ac0f-5ec89df3e51a",
   "metadata": {},
   "outputs": [],
   "source": [
    "import pandas as pd\n",
    "import calendar\n",
    "import seaborn as sns\n",
    "import matplotlib.pyplot as plt\n",
    "\n",
    "df = pd.read_csv(\"../data/sales_data.csv\")\n"
   ]
  },
  {
   "cell_type": "markdown",
   "id": "e80cb2c1-58b1-4094-b6d3-a2032c396177",
   "metadata": {},
   "source": [
    "## Previsualizaciones y familiarización con los datos\n",
    "Antes de hacer cualquier análisis nos fijamos en la estructura y composición del set de datos a través de diferentes funciones.\n",
    "### Encabezados\n",
    "Primero veremos la parte superior de nuestro set de datos para ver a simple vista cómo son nuestros datos, que columnas tenemos y con qué tipo de datos vamos a tratar. Esto nos ayuda a tener una idea más clara de los análisis que podemos hacer y como tratar los datos en pasos posteriores. \n"
   ]
  },
  {
   "cell_type": "code",
   "execution_count": 158,
   "id": "b76f6782-664a-4a4a-8e48-4e08149f9ab6",
   "metadata": {},
   "outputs": [
    {
     "data": {
      "text/html": [
       "<div>\n",
       "<style scoped>\n",
       "    .dataframe tbody tr th:only-of-type {\n",
       "        vertical-align: middle;\n",
       "    }\n",
       "\n",
       "    .dataframe tbody tr th {\n",
       "        vertical-align: top;\n",
       "    }\n",
       "\n",
       "    .dataframe thead th {\n",
       "        text-align: right;\n",
       "    }\n",
       "</style>\n",
       "<table border=\"1\" class=\"dataframe\">\n",
       "  <thead>\n",
       "    <tr style=\"text-align: right;\">\n",
       "      <th></th>\n",
       "      <th>Product_ID</th>\n",
       "      <th>Sale_Date</th>\n",
       "      <th>Sales_Rep</th>\n",
       "      <th>Region</th>\n",
       "      <th>Sales_Amount</th>\n",
       "      <th>Quantity_Sold</th>\n",
       "      <th>Product_Category</th>\n",
       "      <th>Unit_Cost</th>\n",
       "      <th>Unit_Price</th>\n",
       "      <th>Customer_Type</th>\n",
       "      <th>Discount</th>\n",
       "      <th>Payment_Method</th>\n",
       "      <th>Sales_Channel</th>\n",
       "      <th>Region_and_Sales_Rep</th>\n",
       "    </tr>\n",
       "  </thead>\n",
       "  <tbody>\n",
       "    <tr>\n",
       "      <th>0</th>\n",
       "      <td>1052</td>\n",
       "      <td>2023-02-03</td>\n",
       "      <td>Bob</td>\n",
       "      <td>North</td>\n",
       "      <td>5053.97</td>\n",
       "      <td>18</td>\n",
       "      <td>Furniture</td>\n",
       "      <td>152.75</td>\n",
       "      <td>267.22</td>\n",
       "      <td>Returning</td>\n",
       "      <td>0.09</td>\n",
       "      <td>Cash</td>\n",
       "      <td>Online</td>\n",
       "      <td>North-Bob</td>\n",
       "    </tr>\n",
       "    <tr>\n",
       "      <th>1</th>\n",
       "      <td>1093</td>\n",
       "      <td>2023-04-21</td>\n",
       "      <td>Bob</td>\n",
       "      <td>West</td>\n",
       "      <td>4384.02</td>\n",
       "      <td>17</td>\n",
       "      <td>Furniture</td>\n",
       "      <td>3816.39</td>\n",
       "      <td>4209.44</td>\n",
       "      <td>Returning</td>\n",
       "      <td>0.11</td>\n",
       "      <td>Cash</td>\n",
       "      <td>Retail</td>\n",
       "      <td>West-Bob</td>\n",
       "    </tr>\n",
       "    <tr>\n",
       "      <th>2</th>\n",
       "      <td>1015</td>\n",
       "      <td>2023-09-21</td>\n",
       "      <td>David</td>\n",
       "      <td>South</td>\n",
       "      <td>4631.23</td>\n",
       "      <td>30</td>\n",
       "      <td>Food</td>\n",
       "      <td>261.56</td>\n",
       "      <td>371.40</td>\n",
       "      <td>Returning</td>\n",
       "      <td>0.20</td>\n",
       "      <td>Bank Transfer</td>\n",
       "      <td>Retail</td>\n",
       "      <td>South-David</td>\n",
       "    </tr>\n",
       "    <tr>\n",
       "      <th>3</th>\n",
       "      <td>1072</td>\n",
       "      <td>2023-08-24</td>\n",
       "      <td>Bob</td>\n",
       "      <td>South</td>\n",
       "      <td>2167.94</td>\n",
       "      <td>39</td>\n",
       "      <td>Clothing</td>\n",
       "      <td>4330.03</td>\n",
       "      <td>4467.75</td>\n",
       "      <td>New</td>\n",
       "      <td>0.02</td>\n",
       "      <td>Credit Card</td>\n",
       "      <td>Retail</td>\n",
       "      <td>South-Bob</td>\n",
       "    </tr>\n",
       "    <tr>\n",
       "      <th>4</th>\n",
       "      <td>1061</td>\n",
       "      <td>2023-03-24</td>\n",
       "      <td>Charlie</td>\n",
       "      <td>East</td>\n",
       "      <td>3750.20</td>\n",
       "      <td>13</td>\n",
       "      <td>Electronics</td>\n",
       "      <td>637.37</td>\n",
       "      <td>692.71</td>\n",
       "      <td>New</td>\n",
       "      <td>0.08</td>\n",
       "      <td>Credit Card</td>\n",
       "      <td>Online</td>\n",
       "      <td>East-Charlie</td>\n",
       "    </tr>\n",
       "  </tbody>\n",
       "</table>\n",
       "</div>"
      ],
      "text/plain": [
       "   Product_ID   Sale_Date Sales_Rep Region  Sales_Amount  Quantity_Sold  \\\n",
       "0        1052  2023-02-03       Bob  North       5053.97             18   \n",
       "1        1093  2023-04-21       Bob   West       4384.02             17   \n",
       "2        1015  2023-09-21     David  South       4631.23             30   \n",
       "3        1072  2023-08-24       Bob  South       2167.94             39   \n",
       "4        1061  2023-03-24   Charlie   East       3750.20             13   \n",
       "\n",
       "  Product_Category  Unit_Cost  Unit_Price Customer_Type  Discount  \\\n",
       "0        Furniture     152.75      267.22     Returning      0.09   \n",
       "1        Furniture    3816.39     4209.44     Returning      0.11   \n",
       "2             Food     261.56      371.40     Returning      0.20   \n",
       "3         Clothing    4330.03     4467.75           New      0.02   \n",
       "4      Electronics     637.37      692.71           New      0.08   \n",
       "\n",
       "  Payment_Method Sales_Channel Region_and_Sales_Rep  \n",
       "0           Cash        Online            North-Bob  \n",
       "1           Cash        Retail             West-Bob  \n",
       "2  Bank Transfer        Retail          South-David  \n",
       "3    Credit Card        Retail            South-Bob  \n",
       "4    Credit Card        Online         East-Charlie  "
      ]
     },
     "execution_count": 158,
     "metadata": {},
     "output_type": "execute_result"
    }
   ],
   "source": [
    "df.head()"
   ]
  },
  {
   "cell_type": "markdown",
   "id": "21d8b530-760a-4c30-aa45-fd6ff12ba567",
   "metadata": {},
   "source": [
    "### Tipo de datos\n",
    "Para ver exactamente con qué tipo de datos contamos y poder hacernos una idea de si debemos cambiar alguno, utilizamos la funcion info(). "
   ]
  },
  {
   "cell_type": "code",
   "execution_count": 17,
   "id": "a4768827-b397-45bb-94c3-e2be3d5997b3",
   "metadata": {},
   "outputs": [
    {
     "name": "stdout",
     "output_type": "stream",
     "text": [
      "<class 'pandas.core.frame.DataFrame'>\n",
      "RangeIndex: 1000 entries, 0 to 999\n",
      "Data columns (total 14 columns):\n",
      " #   Column                Non-Null Count  Dtype         \n",
      "---  ------                --------------  -----         \n",
      " 0   Product_ID            1000 non-null   int64         \n",
      " 1   Sale_Date             1000 non-null   datetime64[ns]\n",
      " 2   Sales_Rep             1000 non-null   object        \n",
      " 3   Region                1000 non-null   object        \n",
      " 4   Sales_Amount          1000 non-null   float64       \n",
      " 5   Quantity_Sold         1000 non-null   int64         \n",
      " 6   Product_Category      1000 non-null   object        \n",
      " 7   Unit_Cost             1000 non-null   float64       \n",
      " 8   Unit_Price            1000 non-null   float64       \n",
      " 9   Customer_Type         1000 non-null   object        \n",
      " 10  Discount              1000 non-null   float64       \n",
      " 11  Payment_Method        1000 non-null   object        \n",
      " 12  Sales_Channel         1000 non-null   object        \n",
      " 13  Region_and_Sales_Rep  1000 non-null   object        \n",
      "dtypes: datetime64[ns](1), float64(4), int64(2), object(7)\n",
      "memory usage: 109.5+ KB\n"
     ]
    }
   ],
   "source": [
    "df.info()"
   ]
  },
  {
   "cell_type": "markdown",
   "id": "1898486e-dce3-4707-90a2-c13a7a90b3ee",
   "metadata": {},
   "source": [
    "## Estadísticas\n",
    "Para comprobar los rangos en los que se mueven los datos y poder ver si hay alguna anormalidad en estos, creamos una tabla con estadísticas descriptivas que incluye la media, la desviación estándard y los cuartiles entre otras medidas. "
   ]
  },
  {
   "cell_type": "code",
   "execution_count": 23,
   "id": "3a051889-0ab0-4af2-98c9-8fa5cf96c38b",
   "metadata": {},
   "outputs": [
    {
     "data": {
      "text/html": [
       "<div>\n",
       "<style scoped>\n",
       "    .dataframe tbody tr th:only-of-type {\n",
       "        vertical-align: middle;\n",
       "    }\n",
       "\n",
       "    .dataframe tbody tr th {\n",
       "        vertical-align: top;\n",
       "    }\n",
       "\n",
       "    .dataframe thead th {\n",
       "        text-align: right;\n",
       "    }\n",
       "</style>\n",
       "<table border=\"1\" class=\"dataframe\">\n",
       "  <thead>\n",
       "    <tr style=\"text-align: right;\">\n",
       "      <th></th>\n",
       "      <th>Product_ID</th>\n",
       "      <th>Sales_Amount</th>\n",
       "      <th>Quantity_Sold</th>\n",
       "      <th>Unit_Cost</th>\n",
       "      <th>Unit_Price</th>\n",
       "      <th>Discount</th>\n",
       "    </tr>\n",
       "  </thead>\n",
       "  <tbody>\n",
       "    <tr>\n",
       "      <th>count</th>\n",
       "      <td>1000.000000</td>\n",
       "      <td>1000.000000</td>\n",
       "      <td>1000.000000</td>\n",
       "      <td>1000.000000</td>\n",
       "      <td>1000.000000</td>\n",
       "      <td>1000.00000</td>\n",
       "    </tr>\n",
       "    <tr>\n",
       "      <th>mean</th>\n",
       "      <td>1050.128000</td>\n",
       "      <td>5019.265230</td>\n",
       "      <td>25.355000</td>\n",
       "      <td>2475.304550</td>\n",
       "      <td>2728.440120</td>\n",
       "      <td>0.15239</td>\n",
       "    </tr>\n",
       "    <tr>\n",
       "      <th>std</th>\n",
       "      <td>29.573505</td>\n",
       "      <td>2846.790126</td>\n",
       "      <td>14.159006</td>\n",
       "      <td>1417.872546</td>\n",
       "      <td>1419.399839</td>\n",
       "      <td>0.08720</td>\n",
       "    </tr>\n",
       "    <tr>\n",
       "      <th>min</th>\n",
       "      <td>1001.000000</td>\n",
       "      <td>100.120000</td>\n",
       "      <td>1.000000</td>\n",
       "      <td>60.280000</td>\n",
       "      <td>167.120000</td>\n",
       "      <td>0.00000</td>\n",
       "    </tr>\n",
       "    <tr>\n",
       "      <th>25%</th>\n",
       "      <td>1024.000000</td>\n",
       "      <td>2550.297500</td>\n",
       "      <td>13.000000</td>\n",
       "      <td>1238.380000</td>\n",
       "      <td>1509.085000</td>\n",
       "      <td>0.08000</td>\n",
       "    </tr>\n",
       "    <tr>\n",
       "      <th>50%</th>\n",
       "      <td>1051.000000</td>\n",
       "      <td>5019.300000</td>\n",
       "      <td>25.000000</td>\n",
       "      <td>2467.235000</td>\n",
       "      <td>2696.400000</td>\n",
       "      <td>0.15000</td>\n",
       "    </tr>\n",
       "    <tr>\n",
       "      <th>75%</th>\n",
       "      <td>1075.000000</td>\n",
       "      <td>7507.445000</td>\n",
       "      <td>38.000000</td>\n",
       "      <td>3702.865000</td>\n",
       "      <td>3957.970000</td>\n",
       "      <td>0.23000</td>\n",
       "    </tr>\n",
       "    <tr>\n",
       "      <th>max</th>\n",
       "      <td>1100.000000</td>\n",
       "      <td>9989.040000</td>\n",
       "      <td>49.000000</td>\n",
       "      <td>4995.300000</td>\n",
       "      <td>5442.150000</td>\n",
       "      <td>0.30000</td>\n",
       "    </tr>\n",
       "  </tbody>\n",
       "</table>\n",
       "</div>"
      ],
      "text/plain": [
       "        Product_ID  Sales_Amount  Quantity_Sold    Unit_Cost   Unit_Price  \\\n",
       "count  1000.000000   1000.000000    1000.000000  1000.000000  1000.000000   \n",
       "mean   1050.128000   5019.265230      25.355000  2475.304550  2728.440120   \n",
       "std      29.573505   2846.790126      14.159006  1417.872546  1419.399839   \n",
       "min    1001.000000    100.120000       1.000000    60.280000   167.120000   \n",
       "25%    1024.000000   2550.297500      13.000000  1238.380000  1509.085000   \n",
       "50%    1051.000000   5019.300000      25.000000  2467.235000  2696.400000   \n",
       "75%    1075.000000   7507.445000      38.000000  3702.865000  3957.970000   \n",
       "max    1100.000000   9989.040000      49.000000  4995.300000  5442.150000   \n",
       "\n",
       "         Discount  \n",
       "count  1000.00000  \n",
       "mean      0.15239  \n",
       "std       0.08720  \n",
       "min       0.00000  \n",
       "25%       0.08000  \n",
       "50%       0.15000  \n",
       "75%       0.23000  \n",
       "max       0.30000  "
      ]
     },
     "execution_count": 23,
     "metadata": {},
     "output_type": "execute_result"
    }
   ],
   "source": [
    "df.describe()"
   ]
  },
  {
   "cell_type": "markdown",
   "id": "40fc8ea1-67a0-4832-ad2f-116eb4142ed8",
   "metadata": {},
   "source": [
    "## Creación de columnas de tiempo\n",
    "Con tal de facilitar el análisis, crearemos nuevas columnas de mes y día. Esto nos facilitará agrupar nuestros datos mensualmente y crear gráficos que nos ayudarán a sacar conclusiones más robustas. "
   ]
  },
  {
   "cell_type": "code",
   "execution_count": 170,
   "id": "37b77a7d-3f39-4224-80f3-10cdc5c53db3",
   "metadata": {},
   "outputs": [
    {
     "data": {
      "text/html": [
       "<div>\n",
       "<style scoped>\n",
       "    .dataframe tbody tr th:only-of-type {\n",
       "        vertical-align: middle;\n",
       "    }\n",
       "\n",
       "    .dataframe tbody tr th {\n",
       "        vertical-align: top;\n",
       "    }\n",
       "\n",
       "    .dataframe thead th {\n",
       "        text-align: right;\n",
       "    }\n",
       "</style>\n",
       "<table border=\"1\" class=\"dataframe\">\n",
       "  <thead>\n",
       "    <tr style=\"text-align: right;\">\n",
       "      <th></th>\n",
       "      <th>Product_ID</th>\n",
       "      <th>Sale_Date</th>\n",
       "      <th>Sales_Rep</th>\n",
       "      <th>Region</th>\n",
       "      <th>Sales_Amount</th>\n",
       "      <th>Quantity_Sold</th>\n",
       "      <th>Product_Category</th>\n",
       "      <th>Unit_Cost</th>\n",
       "      <th>Unit_Price</th>\n",
       "      <th>Customer_Type</th>\n",
       "      <th>Discount</th>\n",
       "      <th>Payment_Method</th>\n",
       "      <th>Sales_Channel</th>\n",
       "      <th>Region_and_Sales_Rep</th>\n",
       "      <th>Month</th>\n",
       "      <th>Year</th>\n",
       "      <th>Day</th>\n",
       "      <th>Month_Name</th>\n",
       "    </tr>\n",
       "  </thead>\n",
       "  <tbody>\n",
       "    <tr>\n",
       "      <th>0</th>\n",
       "      <td>1052</td>\n",
       "      <td>2023-02-03</td>\n",
       "      <td>Bob</td>\n",
       "      <td>North</td>\n",
       "      <td>5053.97</td>\n",
       "      <td>18</td>\n",
       "      <td>Furniture</td>\n",
       "      <td>152.75</td>\n",
       "      <td>267.22</td>\n",
       "      <td>Returning</td>\n",
       "      <td>0.09</td>\n",
       "      <td>Cash</td>\n",
       "      <td>Online</td>\n",
       "      <td>North-Bob</td>\n",
       "      <td>2</td>\n",
       "      <td>2023</td>\n",
       "      <td>3</td>\n",
       "      <td>Feb</td>\n",
       "    </tr>\n",
       "    <tr>\n",
       "      <th>1</th>\n",
       "      <td>1093</td>\n",
       "      <td>2023-04-21</td>\n",
       "      <td>Bob</td>\n",
       "      <td>West</td>\n",
       "      <td>4384.02</td>\n",
       "      <td>17</td>\n",
       "      <td>Furniture</td>\n",
       "      <td>3816.39</td>\n",
       "      <td>4209.44</td>\n",
       "      <td>Returning</td>\n",
       "      <td>0.11</td>\n",
       "      <td>Cash</td>\n",
       "      <td>Retail</td>\n",
       "      <td>West-Bob</td>\n",
       "      <td>4</td>\n",
       "      <td>2023</td>\n",
       "      <td>21</td>\n",
       "      <td>Apr</td>\n",
       "    </tr>\n",
       "    <tr>\n",
       "      <th>2</th>\n",
       "      <td>1015</td>\n",
       "      <td>2023-09-21</td>\n",
       "      <td>David</td>\n",
       "      <td>South</td>\n",
       "      <td>4631.23</td>\n",
       "      <td>30</td>\n",
       "      <td>Food</td>\n",
       "      <td>261.56</td>\n",
       "      <td>371.40</td>\n",
       "      <td>Returning</td>\n",
       "      <td>0.20</td>\n",
       "      <td>Bank Transfer</td>\n",
       "      <td>Retail</td>\n",
       "      <td>South-David</td>\n",
       "      <td>9</td>\n",
       "      <td>2023</td>\n",
       "      <td>21</td>\n",
       "      <td>Sep</td>\n",
       "    </tr>\n",
       "    <tr>\n",
       "      <th>3</th>\n",
       "      <td>1072</td>\n",
       "      <td>2023-08-24</td>\n",
       "      <td>Bob</td>\n",
       "      <td>South</td>\n",
       "      <td>2167.94</td>\n",
       "      <td>39</td>\n",
       "      <td>Clothing</td>\n",
       "      <td>4330.03</td>\n",
       "      <td>4467.75</td>\n",
       "      <td>New</td>\n",
       "      <td>0.02</td>\n",
       "      <td>Credit Card</td>\n",
       "      <td>Retail</td>\n",
       "      <td>South-Bob</td>\n",
       "      <td>8</td>\n",
       "      <td>2023</td>\n",
       "      <td>24</td>\n",
       "      <td>Aug</td>\n",
       "    </tr>\n",
       "    <tr>\n",
       "      <th>4</th>\n",
       "      <td>1061</td>\n",
       "      <td>2023-03-24</td>\n",
       "      <td>Charlie</td>\n",
       "      <td>East</td>\n",
       "      <td>3750.20</td>\n",
       "      <td>13</td>\n",
       "      <td>Electronics</td>\n",
       "      <td>637.37</td>\n",
       "      <td>692.71</td>\n",
       "      <td>New</td>\n",
       "      <td>0.08</td>\n",
       "      <td>Credit Card</td>\n",
       "      <td>Online</td>\n",
       "      <td>East-Charlie</td>\n",
       "      <td>3</td>\n",
       "      <td>2023</td>\n",
       "      <td>24</td>\n",
       "      <td>Mar</td>\n",
       "    </tr>\n",
       "  </tbody>\n",
       "</table>\n",
       "</div>"
      ],
      "text/plain": [
       "   Product_ID  Sale_Date Sales_Rep Region  Sales_Amount  Quantity_Sold  \\\n",
       "0        1052 2023-02-03       Bob  North       5053.97             18   \n",
       "1        1093 2023-04-21       Bob   West       4384.02             17   \n",
       "2        1015 2023-09-21     David  South       4631.23             30   \n",
       "3        1072 2023-08-24       Bob  South       2167.94             39   \n",
       "4        1061 2023-03-24   Charlie   East       3750.20             13   \n",
       "\n",
       "  Product_Category  Unit_Cost  Unit_Price Customer_Type  Discount  \\\n",
       "0        Furniture     152.75      267.22     Returning      0.09   \n",
       "1        Furniture    3816.39     4209.44     Returning      0.11   \n",
       "2             Food     261.56      371.40     Returning      0.20   \n",
       "3         Clothing    4330.03     4467.75           New      0.02   \n",
       "4      Electronics     637.37      692.71           New      0.08   \n",
       "\n",
       "  Payment_Method Sales_Channel Region_and_Sales_Rep  Month  Year  Day  \\\n",
       "0           Cash        Online            North-Bob      2  2023    3   \n",
       "1           Cash        Retail             West-Bob      4  2023   21   \n",
       "2  Bank Transfer        Retail          South-David      9  2023   21   \n",
       "3    Credit Card        Retail            South-Bob      8  2023   24   \n",
       "4    Credit Card        Online         East-Charlie      3  2023   24   \n",
       "\n",
       "  Month_Name  \n",
       "0        Feb  \n",
       "1        Apr  \n",
       "2        Sep  \n",
       "3        Aug  \n",
       "4        Mar  "
      ]
     },
     "execution_count": 170,
     "metadata": {},
     "output_type": "execute_result"
    }
   ],
   "source": [
    "df['Sale_Date'] = pd.to_datetime(df['Sale_Date'])\n",
    "df['Month'] = df['Sale_Date'].dt.month\n",
    "df['Day'] = df['Sale_Date'].dt.day\n",
    "df['Month_Name'] = df['Sale_Date'].dt.month.apply(lambda x: calendar.month_abbr[x])\n",
    "df.head()"
   ]
  },
  {
   "cell_type": "markdown",
   "id": "4e0f6ee2-f322-4df4-ae8f-8a65c4742c66",
   "metadata": {},
   "source": [
    "### Eliminación de registros\n",
    "En nuestro dataset solo hay unos pocos registros de 2024 y solo de enero. De manera que no son realmente útiles. Con esto en mente, eliminaremos estos pocos registros para poder hacer agrupaciones por mes sin que estos datos \"contaminen\" los de 2023."
   ]
  },
  {
   "cell_type": "code",
   "execution_count": 172,
   "id": "4936b560-cad9-494f-bfef-6a8d908669b6",
   "metadata": {},
   "outputs": [],
   "source": [
    "df = df[df['Year'] == 2023]"
   ]
  },
  {
   "cell_type": "markdown",
   "id": "8ba2b332-48a6-48e6-8e48-daa20cb76a86",
   "metadata": {},
   "source": [
    "### Primeras medidas\n",
    "Para entender un poco más nuestro set de datos, calculamos una medidas sencillas. Nos gustaría conocer la cantidad total en euros que han habido en ventas en 2023 así como la media mensual y también la cantidad de unidades totales vendidas, así como la media mensual."
   ]
  },
  {
   "cell_type": "code",
   "execution_count": 61,
   "id": "4935e3b7-e022-47a0-a973-8cf1e540d17a",
   "metadata": {},
   "outputs": [
    {
     "name": "stdout",
     "output_type": "stream",
     "text": [
      "Ventas totales: 5019265.23 €\n",
      "Media ventas mensual: 418272.1 €\n",
      "Cantidad total: 25355 unidades\n",
      "Cantidad media mensual: 2113.0 unidades\n"
     ]
    }
   ],
   "source": [
    "df['Sale_Date'] = pd.to_datetime(df['Sale_Date'])\n",
    "print(\"Ventas totales:\", round(df['Sales_Amount'].sum(),2),'€')\n",
    "print(\"Media ventas mensual:\",  round(df['Sales_Amount'].sum() / 12,2),'€')\n",
    "print(\"Cantidad total:\", df['Quantity_Sold'].sum(),'unidades')\n",
    "print(\"Cantidad media mensual:\", round(df['Quantity_Sold'].sum() /12 ,0), ')"
   ]
  },
  {
   "cell_type": "markdown",
   "id": "e67ddd4a-4eef-46f1-8509-29783019f3f3",
   "metadata": {},
   "source": [
    "### Ventas mensuales\n",
    "A continuación se muestra la evolución de las ventas mes a mes para detectar estacionalidades.\n"
   ]
  },
  {
   "cell_type": "code",
   "execution_count": 121,
   "id": "c2ce6c6b-933e-4dc3-b9ce-3a919f179f44",
   "metadata": {},
   "outputs": [
    {
     "data": {
      "text/plain": [
       "Text(0.5, 0, '')"
      ]
     },
     "execution_count": 121,
     "metadata": {},
     "output_type": "execute_result"
    },
    {
     "data": {
      "image/png": "[encoded data removed]",
      "text/plain": [
       "<Figure size 1200x600 with 1 Axes>"
      ]
     },
     "metadata": {},
     "output_type": "display_data"
    }
   ],
   "source": [
    "\n",
    "\n",
    "monthly_sales = df.groupby(df['Sale_Date'].dt.to_period('M'))['Sales_Amount'].sum()\n",
    "monthly_sales.plot(kind='bar', figsize=(12, 6))\n",
    "plt.title(\"Ventas mensuales\")\n",
    "plt.ylabel(\"Ventas en €\")\n",
    "plt.xlabel(\"\")\n"
   ]
  },
  {
   "cell_type": "markdown",
   "id": "7bb4ec93-eb9e-4d67-89b5-a2a929dc2aa9",
   "metadata": {},
   "source": [
    "### Productos más vendidos\n",
    "A continuación se muestran los tres productos con mayor recaudación.\n"
   ]
  },
  {
   "cell_type": "code",
   "execution_count": 139,
   "id": "e78650c1-67ad-4a47-a24f-f7239ad7166e",
   "metadata": {},
   "outputs": [
    {
     "data": {
      "text/plain": [
       "Text(0.5, 0, 'Cantidad en Millones de €')"
      ]
     },
     "execution_count": 139,
     "metadata": {},
     "output_type": "execute_result"
    },
    {
     "data": {
      "image/png": "[encoded data removed]",
      "text/plain": [
       "<Figure size 640x480 with 1 Axes>"
      ]
     },
     "metadata": {},
     "output_type": "display_data"
    }
   ],
   "source": [
    "top_products = df.groupby('Product_Category')['Sales_Amount'].sum().sort_values(ascending=True).head(3)\n",
    "top_products.plot(kind='barh', title='Top 3 productos por ventas')\n",
    "plt.ylabel(\"Categoría\")\n",
    "plt.xlabel(\"Cantidad en Millones de €\")"
   ]
  },
  {
   "cell_type": "markdown",
   "id": "d28b6498-80a8-44cf-885b-1cb0b187e666",
   "metadata": {},
   "source": [
    "### Regiones por ventas\n",
    "A continuación se muestran las regiones en las que se ha recaudado más.\n"
   ]
  },
  {
   "cell_type": "code",
   "execution_count": 141,
   "id": "5ab5bdd0-8942-4ddc-9b4e-b80fb4a08cf8",
   "metadata": {},
   "outputs": [
    {
     "data": {
      "text/plain": [
       "<Axes: title={'center': 'Ventas por región'}, ylabel='Region'>"
      ]
     },
     "execution_count": 141,
     "metadata": {},
     "output_type": "execute_result"
    },
    {
     "data": {
      "image/png": "[encoded data removed]",
      "text/plain": [
       "<Figure size 640x480 with 1 Axes>"
      ]
     },
     "metadata": {},
     "output_type": "display_data"
    }
   ],
   "source": [
    "region_sales = df.groupby('Region')['Sales_Amount'].sum().sort_values()\n",
    "region_sales.plot(kind='barh', title='Ventas por región')"
   ]
  },
  {
   "cell_type": "markdown",
   "id": "6dd8446d-2cb5-4252-8b36-e6490d57a6e7",
   "metadata": {},
   "source": [
    "### Tipo de pago\n",
    "A continuación se muestra qué tipos de pago prefieren los clientes.\n"
   ]
  },
  {
   "cell_type": "code",
   "execution_count": 145,
   "id": "850ad477-fac1-4ea2-8acf-c7789c176ce5",
   "metadata": {},
   "outputs": [
    {
     "data": {
      "text/plain": [
       "Text(0, 0.5, 'Tipo de pago')"
      ]
     },
     "execution_count": 145,
     "metadata": {},
     "output_type": "execute_result"
    },
    {
     "data": {
      "image/png": "[encoded data removed]",
      "text/plain": [
       "<Figure size 640x480 with 1 Axes>"
      ]
     },
     "metadata": {},
     "output_type": "display_data"
    }
   ],
   "source": [
    "Payment_Method = df.groupby('Payment_Method')['Sales_Amount'].sum().sort_values()\n",
    "Payment_Method.plot(kind='barh', title='Tipo de pago preferido')\n",
    "plt.ylabel(\"Tipo de pago\")"
   ]
  },
  {
   "cell_type": "markdown",
   "id": "edf39009-e90a-49ed-bae5-a5d026c94c45",
   "metadata": {},
   "source": [
    "### Conclusiones\n",
    "\n",
    "- Las ventas muestran una clara estacionalidad con picos en Noviembre y Enero.\n",
    "- Los productos más vendidos pertenecen a la categoría de mobiliario.\n",
    "- La región norte genera el mayor volumen de ingresos mientras que la región sur, la menor.\n",
    "- Los clientes prefieren el pago con tarjeta.\n",
    "- Se recomienda enfocar campañas promocionales entre octubre y diciembre.\n"
   ]
  },
  {
   "cell_type": "markdown",
   "id": "e79e7a26-57b5-4ec4-801d-ca099fe6cd15",
   "metadata": {},
   "source": [
    "## Dataset procesado"
   ]
  },
  {
   "cell_type": "code",
   "execution_count": 179,
   "id": "033e3ca0-6966-4836-b7b4-3ce9d5f665bd",
   "metadata": {},
   "outputs": [],
   "source": [
    "df.to_csv('cleaned_data.csv')"
   ]
  },
  {
   "cell_type": "code",
   "execution_count": null,
   "id": "a100a7d2-d8e5-4d7e-83ba-95e985a3ee78",
   "metadata": {},
   "outputs": [],
   "source": []
  }
 ],
 "metadata": {
  "kernelspec": {
   "display_name": "Python [conda env:base] *",
   "language": "python",
   "name": "conda-base-py"
  },
  "language_info": {
   "codemirror_mode": {
    "name": "ipython",
    "version": 3
   },
   "file_extension": ".py",
   "mimetype": "text/x-python",
   "name": "python",
   "nbconvert_exporter": "python",
   "pygments_lexer": "ipython3",
   "version": "3.12.7"
  }
 },
 "nbformat": 4,
 "nbformat_minor": 5
}
